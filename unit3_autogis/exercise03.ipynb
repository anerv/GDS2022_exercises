{
 "cells": [
  {
   "cell_type": "markdown",
   "id": "dying-advantage",
   "metadata": {},
   "source": [
    "<div class=\"frontmatter text-center\">\n",
    "<h1>Geospatial Data Science</h1>\n",
    "<h2>Exercise 3: Choropleth Mapping</h2>\n",
    "<h3>IT University of Copenhagen, Spring 2022</h3>\n",
    "<h3>Instructor: Anastassia Vybornova & Ane Rahbek Vierø</h3>\n",
    "</div>\n",
    "\n",
    "# Source\n",
    "This notebook was adapted from:\n",
    "* Automating GIS-Processes: https://autogis-site.readthedocs.io/en/latest/lessons/L4/exercise-4.html"
   ]
  },
  {
   "cell_type": "markdown",
   "id": "colored-fireplace",
   "metadata": {
    "tags": []
   },
   "source": [
    "# Exercise 4\n",
    "\n",
    "This week we will practice how to conduct data classification and aggregation using geopandas. Last week in exercise 3 we analyzed buffer zones around shopping centers. This week we will take into account travel distances using data from the [Helsinki Region Travel Time Matrix](https://blogs.helsinki.fi/accessibility/helsinki-region-travel-time-matrix/).\n",
    "\n",
    "\n",
    "## Problem 1: Join accessibility datasets into a grid and visualize the data on a map\n",
    "\n",
    "\n",
    "![P1 example result](img/traveltimes_example.png)\n",
    "\n",
    "*Desired output from problem 1: Travel times by public transport (PT) and car to Itis and Myyrmanni*\n",
    "\n",
    "**Data:**\n",
    "\n",
    "The [data/](data/) directory in this repository contains all the required input data for this exercise:\n",
    " \n",
    "- Travel time data: `travel_times_to_[XXXXXXX]_[NAME-OF-THE-CENTER].txt` (Travel times and distances in the Helsinki Region to different shopping centers  as text files)\n",
    "- Reference grid: `MetropAccess_YKR_grid_EurefFIN.shp`. \n",
    "\n",
    "Column `from_id` in the travel time data sets corresponds to the `YKR_ID` column in the grid shapefile.\n",
    "     \n",
    "**Steps:**\n",
    "\n",
    "In problem 1 we will focus on travel times to **Itis** and **Myyrmanni**. Our goal is to visualize travel times by public transport and car to both shopping centers. Before plotting the maps we need to classify the data. Your task is to **first develop the processing steps using Itis as input**, and then repeat the steps for Myyrmanni."
   ]
  },
  {
   "cell_type": "markdown",
   "id": "weighted-fantasy",
   "metadata": {},
   "source": [
    "- Read the Polygon grid `MetropAccess_YKR_grid_EurefFIN.shp` into a GeoDataFrame called `grid` using geopandas:"
   ]
  },
  {
   "cell_type": "code",
   "execution_count": null,
   "id": "environmental-union",
   "metadata": {
    "nbgrader": {
     "cell_type": "code",
     "checksum": "d0ec6d4c9eb95f7e88fa5a05a48d05b0",
     "grade": false,
     "grade_id": "read_grid",
     "locked": false,
     "schema_version": 3,
     "solution": true,
     "task": false
    }
   },
   "outputs": [],
   "source": [
    "# REPLACE THE ERROR BELOW WITH YOUR OWN CODE\n",
    "raise NotImplementedError()"
   ]
  },
  {
   "cell_type": "code",
   "execution_count": null,
   "id": "defensive-contributor",
   "metadata": {
    "editable": false,
    "nbgrader": {
     "cell_type": "code",
     "checksum": "475af3116740d4a7e2531c1627333c72",
     "grade": true,
     "grade_id": "problem_1_grid_input_test",
     "locked": true,
     "points": 0.5,
     "schema_version": 3,
     "solution": false
    }
   },
   "outputs": [],
   "source": [
    "# NON-EDITABLE TEST CELL\n",
    "# Check the data\n",
    "print(f\"\\nYKR GRID: {len(grid)} rows\")"
   ]
  },
  {
   "cell_type": "markdown",
   "id": "imperial-father",
   "metadata": {
    "editable": false,
    "nbgrader": {
     "cell_type": "markdown",
     "checksum": "619651f4ad9a06c75f4d422d95c13c86",
     "grade": false,
     "grade_id": "cell-9328a2a52f7e9a86",
     "locked": true,
     "schema_version": 3,
     "solution": false,
     "task": false
    }
   },
   "source": [
    "- Read the travel time data file for Itis using Pandas into a variable called `data`. Separator is `\";\"` in the input file.\n",
    "- Select only following columns from the file:\n",
    "    \n",
    "   - `pt_r_t`\n",
    "   - `car_r_t`\n",
    "   - `from_id`\n",
    "   - `to_id`"
   ]
  },
  {
   "cell_type": "code",
   "execution_count": null,
   "id": "quiet-design",
   "metadata": {
    "nbgrader": {
     "cell_type": "code",
     "checksum": "151de7bc9173c1a268bd1a031699dab0",
     "grade": false,
     "grade_id": "read_data",
     "locked": false,
     "schema_version": 3,
     "solution": true
    }
   },
   "outputs": [],
   "source": [
    "# REPLACE THE ERROR BELOW WITH YOUR OWN CODE\n",
    "raise NotImplementedError()"
   ]
  },
  {
   "cell_type": "code",
   "execution_count": null,
   "id": "expressed-cherry",
   "metadata": {
    "editable": false,
    "nbgrader": {
     "cell_type": "code",
     "checksum": "2cc4164fc62fb4c4c95fe17853bf3492",
     "grade": true,
     "grade_id": "problem_1_data_input_test",
     "locked": true,
     "points": 0.5,
     "schema_version": 3,
     "solution": false,
     "task": false
    }
   },
   "outputs": [],
   "source": [
    "# NON-EDITABLE TEST CELL\n",
    "# Check the data\n",
    "print(f\"\\nITIS: {len(data)} rows\")"
   ]
  },
  {
   "cell_type": "markdown",
   "id": "trained-effort",
   "metadata": {
    "editable": false,
    "nbgrader": {
     "cell_type": "markdown",
     "checksum": "0cd5890bb5ae2a1e651bd4f287746624",
     "grade": false,
     "grade_id": "cell-7466fe21ede7360b",
     "locked": true,
     "schema_version": 3,
     "solution": false
    }
   },
   "source": [
    "- join attributes from `data` to `grid` using the [merge](https://pandas.pydata.org/pandas-docs/stable/reference/api/pandas.DataFrame.merge.html) function: \n",
    "  - **`YKR_ID`** -column in `grid` corresponds to the **`from_id`** column in `data`\n",
    "  - store the join output into a variable called `data_geo` "
   ]
  },
  {
   "cell_type": "code",
   "execution_count": null,
   "id": "departmental-advertiser",
   "metadata": {
    "nbgrader": {
     "cell_type": "code",
     "checksum": "f7a3330d7c1b94c80fd77771e9ba1def",
     "grade": false,
     "grade_id": "table_join",
     "locked": false,
     "schema_version": 3,
     "solution": true
    }
   },
   "outputs": [],
   "source": [
    "# REPLACE THE ERROR BELOW WITH YOUR OWN CODE\n",
    "raise NotImplementedError()"
   ]
  },
  {
   "cell_type": "code",
   "execution_count": null,
   "id": "dominant-sucking",
   "metadata": {
    "editable": false,
    "nbgrader": {
     "cell_type": "code",
     "checksum": "b98287600c803d070bc579aafd485793",
     "grade": true,
     "grade_id": "problem_1_table_join_dtype_test",
     "locked": true,
     "points": 0.5,
     "schema_version": 3,
     "solution": false,
     "task": false
    }
   },
   "outputs": [],
   "source": [
    "# NON-EDITABLE TEST CELL\n",
    "#Check data type\n",
    "assert type(data_geo) == gpd.geodataframe.GeoDataFrame, \"Output should be a geodataframe.\""
   ]
  },
  {
   "cell_type": "code",
   "execution_count": null,
   "id": "becoming-screening",
   "metadata": {
    "editable": false,
    "nbgrader": {
     "cell_type": "code",
     "checksum": "cb3eb07b6e1c90000a8bd3082a18cd08",
     "grade": true,
     "grade_id": "problem_1_table_join_columns_test",
     "locked": true,
     "points": 0.5,
     "schema_version": 3,
     "solution": false
    }
   },
   "outputs": [],
   "source": [
    "# NON-EDITABLE TEST CELL\n",
    "# Check that the merged output have (at least) the necessary columns\n",
    "required_columns = ['YKR_ID', 'pt_r_t', 'car_r_t', 'geometry']\n",
    "\n",
    "assert all(x in data_geo.columns for x in required_columns), \"Couldn't find all required columns.\""
   ]
  },
  {
   "cell_type": "markdown",
   "id": "capable-audit",
   "metadata": {
    "editable": false,
    "nbgrader": {
     "cell_type": "markdown",
     "checksum": "a04367dc6d3198f007ca59544eb11aac",
     "grade": false,
     "grade_id": "cell-c9758c259e0c8abd",
     "locked": true,
     "schema_version": 3,
     "solution": false
    }
   },
   "source": [
    "- Remove all rows containing no-data values (`-1`) from `data_geo`. You can for example [replace](https://pandas.pydata.org/pandas-docs/stable/reference/api/pandas.DataFrame.replace.html) the no-data values with numpy's `np.nan`, and then drop rows containing no-data values using the [DataFrame.dropna](https://pandas.pydata.org/pandas-docs/stable/reference/api/pandas.DataFrame.dropna.html) function."
   ]
  },
  {
   "cell_type": "code",
   "execution_count": null,
   "id": "pursuant-treat",
   "metadata": {
    "nbgrader": {
     "cell_type": "code",
     "checksum": "77edb0755e62f533924e50affba9f862",
     "grade": false,
     "grade_id": "replace_values",
     "locked": false,
     "schema_version": 3,
     "solution": true
    }
   },
   "outputs": [],
   "source": [
    "# REPLACE THE ERROR BELOW WITH YOUR OWN CODE\n",
    "raise NotImplementedError()"
   ]
  },
  {
   "cell_type": "code",
   "execution_count": null,
   "id": "outstanding-heath",
   "metadata": {
    "editable": false,
    "nbgrader": {
     "cell_type": "code",
     "checksum": "074092c0e89a1f6b5565bee3061aca05",
     "grade": true,
     "grade_id": "problem_1_replace_values_test",
     "locked": true,
     "points": 1,
     "schema_version": 3,
     "solution": false
    }
   },
   "outputs": [],
   "source": [
    "# NON-EDITABLE TEST CELL\n",
    "# Check that -1 values are not present in the columns\n",
    "assert -1 not in data_geo[\"pt_r_t\"].tolist(), \"NoData values (-1) should be removed from the data!\"\n"
   ]
  },
  {
   "cell_type": "markdown",
   "id": "liberal-hybrid",
   "metadata": {
    "editable": false,
    "nbgrader": {
     "cell_type": "markdown",
     "checksum": "392d9864337556e206eec0634859a7e5",
     "grade": false,
     "grade_id": "cell-a1ae2db99f7de17b",
     "locked": true,
     "schema_version": 3,
     "solution": false
    }
   },
   "source": [
    "- Classify the travel times for both travel modes (public transport and private car) into five-minute intervals \n",
    "    - Create a `UserDefined` classifier using the [pysal/mapclassify](https://github.com/pysal/mapclassify#userdefined) library using these class breaks: `5, 10, 15, 20, 25, 30, 35, 40, 45, 50, 55, 60`\n",
    "    - Apply the classifier to `pt_r_t` and `car_r_t` columns and store the results to `pt_r_t_cl` and `car_r_t_cl` columns, respectively\n",
    "    - Notice that these 12 class breaks will produce 13 classes (1 class break divides the data into two classes)."
   ]
  },
  {
   "cell_type": "code",
   "execution_count": null,
   "id": "organized-deficit",
   "metadata": {
    "nbgrader": {
     "cell_type": "code",
     "checksum": "202eca52c16a72ab3b8d6521ce364b20",
     "grade": false,
     "grade_id": "classify_values",
     "locked": false,
     "schema_version": 3,
     "solution": true
    }
   },
   "outputs": [],
   "source": [
    "# REPLACE THE ERROR BELOW WITH YOUR OWN CODE\n",
    "raise NotImplementedError()"
   ]
  },
  {
   "cell_type": "code",
   "execution_count": null,
   "id": "referenced-taste",
   "metadata": {
    "editable": false,
    "nbgrader": {
     "cell_type": "code",
     "checksum": "1b537b13dac72a0ba1503c8386414e3d",
     "grade": true,
     "grade_id": "problem_1_itis_pt_classify_test",
     "locked": true,
     "points": 1,
     "schema_version": 3,
     "solution": false,
     "task": false
    }
   },
   "outputs": [],
   "source": [
    "# NON-EDITABLE TEST CELL\n",
    "#Check the output\n",
    "print(\"travel times by public transport:\")\n",
    "print(data_geo[['YKR_ID', 'pt_r_t', 'pt_r_t_cl']].head())"
   ]
  },
  {
   "cell_type": "code",
   "execution_count": null,
   "id": "obvious-respondent",
   "metadata": {
    "editable": false,
    "nbgrader": {
     "cell_type": "code",
     "checksum": "23b6f61399ac42b57b421096bcef84a8",
     "grade": true,
     "grade_id": "problem_1_itis_car_classify_test",
     "locked": true,
     "points": 1,
     "schema_version": 3,
     "solution": false,
     "task": false
    }
   },
   "outputs": [],
   "source": [
    "# NON-EDITABLE TEST CELL\n",
    "#Check the output\n",
    "print(\"Travel times by car:\")\n",
    "print(data_geo[['YKR_ID','car_r_t', 'car_r_t_cl']].head())"
   ]
  },
  {
   "cell_type": "markdown",
   "id": "completed-liverpool",
   "metadata": {},
   "source": [
    "**Plot the classified travel times to Itis**:\n",
    "\n",
    "![itis_example.png](img/itis_example.png)\n",
    "\n",
    "Create a 1x2 plot where the you plot travel times by public transport and travel times by car to Itis:\n",
    "- Create subplots using matplotlib having 1 row and 2 columns (use parameters `nrows` & `ncols`), and the figure size should be 10 inches by 5 inches (use parameter `figsize`)\n",
    "- Add titles for the subplots as seen in the example above\n",
    "- Remove the empty whitespace around the plots using function `plt.tight_layout()`\n",
    "- Save the figure into disk with filename `itis_accessibility.png`\n"
   ]
  },
  {
   "cell_type": "code",
   "execution_count": null,
   "id": "crude-click",
   "metadata": {
    "nbgrader": {
     "cell_type": "code",
     "checksum": "d5bc01d196b50fee36dc911f13e07417",
     "grade": false,
     "grade_id": "plot_itis",
     "locked": false,
     "schema_version": 3,
     "solution": true,
     "task": false
    }
   },
   "outputs": [],
   "source": [
    "# Define output filename for the figure in here and use it when saving the file:\n",
    "output_fig1 = \"\"\n",
    "\n",
    "# REPLACE THE ERROR BELOW WITH YOUR OWN CODE\n",
    "raise NotImplementedError()"
   ]
  },
  {
   "cell_type": "code",
   "execution_count": null,
   "id": "vocational-theme",
   "metadata": {
    "editable": false,
    "nbgrader": {
     "cell_type": "code",
     "checksum": "da41a4213247c27fe15786ffd8c9ec02",
     "grade": true,
     "grade_id": "problem_1_itis_output_test",
     "locked": true,
     "points": 0.5,
     "schema_version": 3,
     "solution": false,
     "task": false
    }
   },
   "outputs": [],
   "source": [
    "# NON-EDITABLE TEST CELL\n",
    "# Check that output figure file exists\n",
    "import os\n",
    "assert os.path.isfile(output_fig1), \"figure does not exists!\""
   ]
  },
  {
   "cell_type": "markdown",
   "id": "agricultural-palmer",
   "metadata": {
    "editable": false,
    "nbgrader": {
     "cell_type": "markdown",
     "checksum": "64f40faa19751d350bf02ee0e4e5a7f7",
     "grade": false,
     "grade_id": "repeating-process",
     "locked": true,
     "schema_version": 3,
     "solution": false,
     "task": false
    }
   },
   "source": [
    "**Repeat the steps for Myyrmanni:**\n",
    "\n",
    "![myyrmanni example figure](img/myyrmanni_example.png)\n",
    "\n",
    "Next, your task is to repeat all the same steps for **Myyrmanni** (`data/TravelTimes_to_5902043_Myyrmanni.txt`):\n",
    "\n",
    "    # Read text file using pandas into a variable called data\n",
    "    # Select columns 'pt_r_t', 'car_r_t', 'from_id', 'to_id'\n",
    "    # Make table join between grid and travel time data. Store output in a variable called data_geo\n",
    "    # Remove no data values\n",
    "    # Classify the values in columns 'pt_r_t', 'car_r_t' into new columns 'pt_r_t_cl', 'car_r_t_cl'\n",
    "    # Plot travel times by public transport and travel times by car.\n",
    "    # Save output image to file (myyrmanni_accessibility.png)\n",
    "\n",
    "*Hint: You can copy paste the code from your earlier solutions in here, just change the input file path.*\n"
   ]
  },
  {
   "cell_type": "code",
   "execution_count": null,
   "id": "resident-equality",
   "metadata": {
    "nbgrader": {
     "cell_type": "code",
     "checksum": "cc30b32e543db046535e6012638ccc8f",
     "grade": false,
     "grade_id": "cell-7a5388593168d78b",
     "locked": false,
     "schema_version": 3,
     "solution": true,
     "task": false
    }
   },
   "outputs": [],
   "source": [
    "# Define output filename for the figure in here and use it when saving the file:\n",
    "output_fig2 = \"\"\n",
    "\n",
    "# REPLACE THE ERROR BELOW WITH YOUR OWN CODE\n",
    "raise NotImplementedError()"
   ]
  },
  {
   "cell_type": "code",
   "execution_count": null,
   "id": "trying-bennett",
   "metadata": {
    "editable": false,
    "nbgrader": {
     "cell_type": "code",
     "checksum": "7dcf3cca574a986249939ac9315ffe08",
     "grade": true,
     "grade_id": "problem_1_final_output_test",
     "locked": true,
     "points": 0.5,
     "schema_version": 3,
     "solution": false,
     "task": false
    }
   },
   "outputs": [],
   "source": [
    "# NON-EDITABLE TEST CELL\n",
    "# Check that output figure file exists\n",
    "import os\n",
    "assert os.path.isfile(output_fig2), \"figure does not exists!\""
   ]
  },
  {
   "cell_type": "markdown",
   "id": "stainless-duplicate",
   "metadata": {},
   "source": [
    "\n",
    "**Optional:  4-panel figure**\n",
    "\n",
    "As an optional task, plot travel times to Itis and Myyrmanni all in one 4-panel figure (see example at the top of this page)!\n",
    "\n",
    "Hints:\n",
    "- create a for-loop where you repeat all the steps for Itis and Myyrmanni (you can iterate over a list of input filepaths)\n",
    "- Before the for-loop, create a figure with 4 subplots (2 rows and 2 columns) and use figsize=(10,10)\n",
    "- Inside the for-loop, plot each map into one of the subplots. \n",
    "- save the figure as `shopping_center_accessibility.png` "
   ]
  },
  {
   "cell_type": "code",
   "execution_count": null,
   "id": "legitimate-questionnaire",
   "metadata": {
    "nbgrader": {
     "cell_type": "code",
     "checksum": "b365e5801e120ac6e706ae42a938dc94",
     "grade": false,
     "grade_id": "for-loop",
     "locked": false,
     "schema_version": 3,
     "solution": true,
     "task": false
    },
    "tags": []
   },
   "outputs": [],
   "source": [
    "# REPLACE THE ERROR BELOW WITH YOUR OWN CODE\n",
    "raise NotImplementedError()"
   ]
  },
  {
   "cell_type": "markdown",
   "id": "obvious-saudi",
   "metadata": {},
   "source": [
    "**Finally**, check that you have provided adequate comments in your code.\n",
    "\n",
    "**Reflections:** (Only for enrolled students)\n",
    "- If you want to ask feedback on spesific parts of your code, please leave your comment in here: "
   ]
  },
  {
   "cell_type": "markdown",
   "id": "compact-nebraska",
   "metadata": {
    "nbgrader": {
     "cell_type": "markdown",
     "checksum": "93ea07b57f7684eebcb15a4631ed5fbf",
     "grade": true,
     "grade_id": "cell-c75c11f6a94612ef",
     "locked": false,
     "points": 4,
     "schema_version": 3,
     "solution": true,
     "task": false
    }
   },
   "source": [
    "YOUR ANSWER HERE"
   ]
  },
  {
   "cell_type": "markdown",
   "id": "latest-thought",
   "metadata": {},
   "source": [
    "### Done!\n",
    "\n",
    "\n",
    "**Remember to commit the output figures** to your exercise repository! (One for Itis and one for Myyrmanni, or optionally a combined 4-panel figure for both shopping centers and both travel modes).\n",
    "\n",
    "That's it! Once you have plotted the data and saved the output you are ready to continue with Problem 2."
   ]
  }
 ],
 "metadata": {
  "kernelspec": {
   "display_name": "Python 3",
   "language": "python",
   "name": "python3"
  },
  "language_info": {
   "codemirror_mode": {
    "name": "ipython",
    "version": 3
   },
   "file_extension": ".py",
   "mimetype": "text/x-python",
   "name": "python",
   "nbconvert_exporter": "python",
   "pygments_lexer": "ipython3",
   "version": "3.8.8"
  }
 },
 "nbformat": 4,
 "nbformat_minor": 5
}
